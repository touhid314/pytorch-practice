{
 "cells": [
  {
   "cell_type": "code",
   "execution_count": 9,
   "metadata": {},
   "outputs": [],
   "source": [
    "import torch"
   ]
  },
  {
   "attachments": {},
   "cell_type": "markdown",
   "metadata": {},
   "source": [
    "<b>Diff of function with scalar input and scalar output</b> \\\n",
    "y = 3x^2 + 4x + 2ux <br/>\n",
    "<b>find:</b> \n",
    "dy/dx at x = 3\n",
    "dy/dx at x = 2\n",
    "\n",
    "then, \\\n",
    "z = 3*x**2 + x \\\n",
    "find: \\\n",
    "dz/dx at x = 3\n",
    "\n",
    "then, \\\n",
    "find dy/dx at x = 7"
   ]
  },
  {
   "cell_type": "code",
   "execution_count": 10,
   "metadata": {},
   "outputs": [
    {
     "name": "stdout",
     "output_type": "stream",
     "text": [
      "dy/dx for x = 3 :  tensor(26.)\n",
      "dy/dx for u = 2 :  tensor(6.)\n"
     ]
    }
   ],
   "source": [
    "\n",
    "x = torch.tensor(3.0, requires_grad=True)\n",
    "u = torch.tensor(2.0, requires_grad=True)\n",
    "y = 3*x**2 + 4*x + 2*u*x \n",
    "\n",
    "y.backward()\n",
    "print('dy/dx for x = 3 : ', x.grad)\n",
    "print('dy/dx for u = 2 : ', u.grad)"
   ]
  },
  {
   "cell_type": "code",
   "execution_count": 11,
   "metadata": {},
   "outputs": [
    {
     "name": "stdout",
     "output_type": "stream",
     "text": [
      "dz/dx at x = 3 :  tensor(19.)\n"
     ]
    }
   ],
   "source": [
    "x.grad.zero_()\n",
    "z = 3*x**2 + x\n",
    "z.backward()\n",
    "print('dz/dx at x = 3 : ', x.grad)"
   ]
  },
  {
   "cell_type": "code",
   "execution_count": 12,
   "metadata": {},
   "outputs": [
    {
     "name": "stdout",
     "output_type": "stream",
     "text": [
      "tensor(50.)\n"
     ]
    }
   ],
   "source": [
    "x = torch.tensor(7.0, requires_grad=True)\n",
    "y = 3*x**2 + 4*x + 2*u*x #you have to redefine y, otherwise it won't work\n",
    "y.backward()\n",
    "print(x.grad)"
   ]
  },
  {
   "attachments": {},
   "cell_type": "markdown",
   "metadata": {},
   "source": [
    "<b>Diff of function with vector input, scalar output</b> \n"
   ]
  },
  {
   "cell_type": "code",
   "execution_count": null,
   "metadata": {},
   "outputs": [],
   "source": [
    "%reset #clears all variables and imports\n",
    "import torch"
   ]
  },
  {
   "attachments": {},
   "cell_type": "markdown",
   "metadata": {},
   "source": [
    "<i>NOTE: torch.tensor([[1, 7, -2]]) and torch.tensor([1, 7, -2]) are not completely the same</i>"
   ]
  },
  {
   "cell_type": "code",
   "execution_count": null,
   "metadata": {},
   "outputs": [],
   "source": [
    "x = torch.tensor([[1, 7, -2]]) #this is a 2D tensor\n",
    "print(x, x.t(), x.shape, x.t().shape, x@x.t())\n",
    "#torch.dot(x, x) #throws an error, because dot product is only allowed for 1D tensor  \n",
    "\n",
    "x = torch.tensor([1, 7, -2]) #this is an 1D tensor\n",
    "print(x, x.t(), x.shape, x.t().shape, x@x.t())\n",
    "torch.dot(x, x)"
   ]
  },
  {
   "attachments": {},
   "cell_type": "markdown",
   "metadata": {},
   "source": [
    "what does the following differentiation result mean?"
   ]
  },
  {
   "cell_type": "code",
   "execution_count": 85,
   "metadata": {},
   "outputs": [
    {
     "name": "stdout",
     "output_type": "stream",
     "text": [
      "tensor(174., grad_fn=<AddBackward0>)\n",
      "tensor([ 5., 35., 11.])\n"
     ]
    }
   ],
   "source": [
    "x = torch.tensor([1.0, 7.0, -2.0], requires_grad=True)\n",
    "y = 3*torch.dot(x, torch.tensor([1.0, 7.0, 5.0])) + x@x.t()\n",
    "# print(y)\n",
    "y.backward()\n",
    "print(x.grad)"
   ]
  },
  {
   "attachments": {},
   "cell_type": "markdown",
   "metadata": {},
   "source": [
    "<b>Differentiation of function with vector output</b> \\\n",
    "grad can be normally created only for scalar output functions.\\\n",
    "for vector valued function a special tensor called \"gradient\" has to be passed to backward()\\\n",
    "<i> what does the output actually mean? </i>"
   ]
  },
  {
   "cell_type": "code",
   "execution_count": 1,
   "metadata": {},
   "outputs": [],
   "source": [
    "%reset \n",
    "import torch"
   ]
  },
  {
   "cell_type": "code",
   "execution_count": 2,
   "metadata": {},
   "outputs": [
    {
     "name": "stdout",
     "output_type": "stream",
     "text": [
      "tensor([  4., 196.,  16.], grad_fn=<AddBackward0>)\n",
      "tensor([  8.,  56., -16.])\n"
     ]
    }
   ],
   "source": [
    "x = torch.tensor([1.0, 7.0, -2.0], requires_grad=True)\n",
    "y = 3*x*x + x**2\n",
    "print(y)\n",
    "# y.backward() #throws error because: grad can be created only for scalar output functions\n",
    "y.backward(gradient=torch.ones(len(y))) #meaning of the gradient tensor => page 86 of dive into deep learning book\n",
    "print(x.grad)"
   ]
  },
  {
   "attachments": {},
   "cell_type": "markdown",
   "metadata": {},
   "source": [
    "<b>Differentiation of functions defined with python control flow</b> \\\n"
   ]
  },
  {
   "cell_type": "code",
   "execution_count": 11,
   "metadata": {},
   "outputs": [
    {
     "name": "stdout",
     "output_type": "stream",
     "text": [
      "df/da at a = 5:  tensor([256.])\n"
     ]
    }
   ],
   "source": [
    "def f(a):\n",
    "    b = a*2\n",
    "    while b.norm()<1000:\n",
    "        b = b*2\n",
    "    if b.sum()>0:\n",
    "        c = b\n",
    "    else:\n",
    "        c = 100 * b \n",
    "    return c \n",
    "\n",
    "# f.backward() #will throw error\n",
    "a = torch.tensor([5.0], requires_grad=True)\n",
    "d = f(a)\n",
    "d.backward()\n",
    "print('df/da at a = 5: ', a.grad)"
   ]
  }
 ],
 "metadata": {
  "kernelspec": {
   "display_name": "Python 3",
   "language": "python",
   "name": "python3"
  },
  "language_info": {
   "codemirror_mode": {
    "name": "ipython",
    "version": 3
   },
   "file_extension": ".py",
   "mimetype": "text/x-python",
   "name": "python",
   "nbconvert_exporter": "python",
   "pygments_lexer": "ipython3",
   "version": "3.10.7"
  },
  "orig_nbformat": 4
 },
 "nbformat": 4,
 "nbformat_minor": 2
}
