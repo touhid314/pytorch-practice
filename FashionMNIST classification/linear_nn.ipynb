{
 "cells": [
  {
   "attachments": {},
   "cell_type": "markdown",
   "metadata": {},
   "source": [
    "A linear nn applied on the fashionMNIST dataset classification problem. \\\n",
    "<a>https://www.youtube.com/watch?v=V_xro1bcAuA&t=58680s</a>\n"
   ]
  },
  {
   "cell_type": "code",
   "execution_count": 1,
   "metadata": {},
   "outputs": [
    {
     "name": "stdout",
     "output_type": "stream",
     "text": [
      "2.0.1+cpu\n"
     ]
    }
   ],
   "source": [
    "import torch\n",
    "from torch import nn \n",
    "\n",
    "import torchvision\n",
    "from torchvision import datasets\n",
    "from torchvision.transforms import ToTensor\n",
    "\n",
    "import matplotlib.pyplot as plt\n",
    "\n",
    "print(torch.__version__)\n"
   ]
  },
  {
   "cell_type": "code",
   "execution_count": 2,
   "metadata": {},
   "outputs": [],
   "source": [
    "train_data = datasets.FashionMNIST(root=\"data\",\n",
    "                                   train=True,\n",
    "                                   transform=ToTensor(),\n",
    "                                   target_transform=None,\n",
    "                                   download=True)\n"
   ]
  },
  {
   "cell_type": "code",
   "execution_count": 3,
   "metadata": {},
   "outputs": [],
   "source": [
    "test_data = datasets.FashionMNIST(root=\"data\",\n",
    "                                  train=False,\n",
    "                                  download=True,\n",
    "                                  transform=ToTensor(),\n",
    "                                  target_transform=None)"
   ]
  },
  {
   "attachments": {},
   "cell_type": "markdown",
   "metadata": {},
   "source": [
    "Viewwing image from the dataset"
   ]
  },
  {
   "cell_type": "code",
   "execution_count": 4,
   "metadata": {},
   "outputs": [
    {
     "name": "stdout",
     "output_type": "stream",
     "text": [
      "T-shirt/top\n"
     ]
    },
    {
     "data": {
      "image/png": "[encoded data removed]",
      "text/plain": [
       "<Figure size 640x480 with 1 Axes>"
      ]
     },
     "metadata": {},
     "output_type": "display_data"
    }
   ],
   "source": [
    "image, lab = train_data[10]\n",
    "plt.imshow(image.squeeze(), cmap=\"gray\")\n",
    "print(train_data.classes[lab])"
   ]
  },
  {
   "attachments": {},
   "cell_type": "markdown",
   "metadata": {},
   "source": [
    "Dataloader"
   ]
  },
  {
   "cell_type": "code",
   "execution_count": 5,
   "metadata": {},
   "outputs": [],
   "source": [
    "from torch.utils.data import DataLoader\n",
    "BATCH_SIZE = 32\n",
    "\n",
    "train_dataloader = DataLoader(train_data, # dataset to turn into iterable\n",
    "    batch_size=BATCH_SIZE, # how many samples per batch? \n",
    "    shuffle=True # shuffle data every epoch?\n",
    ")\n",
    "\n",
    "test_dataloader = DataLoader(test_data,\n",
    "    batch_size=BATCH_SIZE,\n",
    "    shuffle=False # don't necessarily have to shuffle the testing data\n",
    ")"
   ]
  },
  {
   "attachments": {},
   "cell_type": "markdown",
   "metadata": {},
   "source": [
    "working with data loader objects"
   ]
  },
  {
   "cell_type": "code",
   "execution_count": 6,
   "metadata": {},
   "outputs": [
    {
     "data": {
      "text/plain": [
       "'Trouser'"
      ]
     },
     "execution_count": 6,
     "metadata": {},
     "output_type": "execute_result"
    },
    {
     "data": {
      "image/png": "[encoded data removed]",
      "text/plain": [
       "<Figure size 640x480 with 1 Axes>"
      ]
     },
     "metadata": {},
     "output_type": "display_data"
    }
   ],
   "source": [
    "batch , label = next(iter(train_dataloader))\n",
    "plt.imshow(batch[1, 0, :, :].squeeze())\n",
    "train_data.classes[label[1]]"
   ]
  },
  {
   "attachments": {},
   "cell_type": "markdown",
   "metadata": {},
   "source": [
    "<b>A simple linear model to solve the classification problem</b>"
   ]
  },
  {
   "cell_type": "code",
   "execution_count": 7,
   "metadata": {},
   "outputs": [
    {
     "data": {
      "text/plain": [
       "torch.Size([1, 784])"
      ]
     },
     "execution_count": 7,
     "metadata": {},
     "output_type": "execute_result"
    }
   ],
   "source": [
    "# learning to work with the flatten layer\n",
    "flatten_model = nn.Flatten(start_dim=1)\n",
    "\n",
    "x, y = next(iter(train_dataloader))\n",
    "img = x[0]\n",
    "# plt.imshow(img)\n",
    "out = flatten_model(img)\n",
    "out.shape"
   ]
  },
  {
   "cell_type": "code",
   "execution_count": 8,
   "metadata": {},
   "outputs": [
    {
     "name": "stdout",
     "output_type": "stream",
     "text": [
      "<class 'torch.nn.modules.container.Sequential'>\n"
     ]
    },
    {
     "data": {
      "text/plain": [
       "tensor([[-0.3007,  0.5093,  0.3086,  0.0770, -0.2109, -0.5127, -0.1964,  0.4724,\n",
       "          0.2281, -0.3576]], grad_fn=<AddmmBackward0>)"
      ]
     },
     "execution_count": 8,
     "metadata": {},
     "output_type": "execute_result"
    }
   ],
   "source": [
    "# learning to work with nn.sequential\n",
    "model = nn.Sequential(nn.Flatten(), # neural networks like their inputs in vector form\n",
    "            nn.Linear(in_features=784, out_features=10), # in_features = number of features in a data sample (784 pixels)\n",
    "            nn.Linear(in_features=10, out_features=10)\n",
    "        )\n",
    "print(type(model))\n",
    "model(out) # out is a flattened image of size [1, 784]"
   ]
  },
  {
   "attachments": {},
   "cell_type": "markdown",
   "metadata": {},
   "source": [
    "now creating the model. model is a subclass of nn.Module\\\n",
    "nn.module provides many useful functions \\\n",
    "to know about them: \n",
    "<a>https://pytorch.org/docs/stable/generated/torch.nn.Module.html</a>"
   ]
  },
  {
   "cell_type": "code",
   "execution_count": 9,
   "metadata": {},
   "outputs": [],
   "source": [
    "# creating the model class\n",
    "class FashionMNISTModelV0(nn.Module):\n",
    "    def __init__(self, input_shape:int, hidden_units:int, output_shape:int):\n",
    "        super().__init__()\n",
    "        self.layer_stack = nn.Sequential(\n",
    "            nn.Flatten(), # neural networks like their inputs in vector form\n",
    "            nn.Linear(in_features=input_shape, out_features=hidden_units), # in_features = number of features in a data sample (784 pixels)\n",
    "            nn.Linear(in_features=hidden_units, out_features=output_shape)\n",
    "        )\n",
    "\n",
    "    def forward(self, x):\n",
    "        # x is a [1, 28, 28] image\n",
    "        return self.layer_stack(x)"
   ]
  },
  {
   "attachments": {},
   "cell_type": "markdown",
   "metadata": {},
   "source": [
    "Testing the forward pass to predict an img with the initial random weights and biases. \\\n",
    "<b>NOTE THAT: number of neurons in a layer = number of out_features of that layer</b>"
   ]
  },
  {
   "cell_type": "code",
   "execution_count": 10,
   "metadata": {},
   "outputs": [
    {
     "name": "stdout",
     "output_type": "stream",
     "text": [
      "tensor([[ 0.3319,  0.0858, -0.1478, -0.0721, -0.1389, -0.1289,  0.0490,  0.1233,\n",
      "         -0.4555,  0.0559]], grad_fn=<AddmmBackward0>)\n",
      "odict_keys(['layer_stack.1.weight', 'layer_stack.1.bias', 'layer_stack.2.weight', 'layer_stack.2.bias'])\n",
      "layer1 weights:  tensor([[-0.0024,  0.0231, -0.0344,  ...,  0.0097,  0.0171, -0.0037],\n",
      "        [-0.0140,  0.0207,  0.0072,  ...,  0.0019,  0.0342, -0.0347],\n",
      "        [-0.0179, -0.0324, -0.0286,  ..., -0.0321,  0.0320, -0.0289],\n",
      "        ...,\n",
      "        [-0.0182, -0.0033,  0.0331,  ...,  0.0064,  0.0307,  0.0003],\n",
      "        [-0.0063,  0.0079,  0.0277,  ..., -0.0355, -0.0041, -0.0188],\n",
      "        [ 0.0112,  0.0258,  0.0242,  ..., -0.0029, -0.0017,  0.0105]])\n",
      "layer1 weights:  torch.Size([10, 784])\n",
      "layer1 bias:  torch.Size([10])\n",
      "layer2 weights:  torch.Size([10, 10])\n",
      "layer2 bias:  torch.Size([10])\n",
      "total params: 7960\n"
     ]
    }
   ],
   "source": [
    "model_0 = FashionMNISTModelV0(input_shape=784, hidden_units=10, output_shape=len(train_data.classes))\n",
    "model_0.to('cpu') #telling torch for running the model on cpu \n",
    "\n",
    "print(model_0.forward(img)) #predict output for an img\n",
    "#see the weights and biases of the layers\n",
    "#note that the weights and biases are randomly assigned as of now\n",
    "print(model_0.state_dict().keys())\n",
    "\n",
    "layer1weights = model_0.state_dict()[\"layer_stack.1.weight\"]\n",
    "print(\"layer1 weights: \", layer1weights)\n",
    "\n",
    "print(\"layer1 weights: \", layer1weights.shape) \n",
    "print(\"layer1 bias: \", model_0.state_dict()[\"layer_stack.1.bias\"].shape)\n",
    "print(\"layer2 weights: \", model_0.state_dict()[\"layer_stack.2.weight\"].shape)\n",
    "print(\"layer2 bias: \", model_0.state_dict()[\"layer_stack.2.bias\"].shape)\n",
    "\n",
    "total_params = sum(p.numel() for p in model_0.parameters())\n",
    "print(\"total params:\" , total_params)"
   ]
  },
  {
   "attachments": {},
   "cell_type": "markdown",
   "metadata": {},
   "source": [
    "<b>Required functions to know: </b> \\\n",
    "<i>loss_fn = nn.CrossEntropyLoss()</i> \\\n",
    "loss = loss_fn(model_prediction, known_prediction) \\\n",
    "\\\n",
    "<i>loss.backward()</i> \\\n",
    "performs gradient of loss function wrt all parameters(weights and biases) of the network\\\n",
    "\\\n",
    "<i> optimizer = torch.optim.SGD(params=model_name.parameters(). lr = 0.1) </i>\\\n",
    "\n",
    "optimizer.zero_grad()\\\n",
    "optimizer.step() -> updates the weights and biases of the model, according to the calculated gradient.\\\n",
    "\n",
    "\n",
    "<b>Why use model(data), instead of model.forward(data)?</b>\\\n",
    "When you call the model directly, the internal __call__ function is used.\n",
    "This function manages all registered hooks and calls forward afterwards.\n",
    "That’s also the reason you should call the model directly (and not model.forward(x)), because otherwise your hooks might not work etc.\\\n",
    "\n"
   ]
  },
  {
   "attachments": {},
   "cell_type": "markdown",
   "metadata": {},
   "source": [
    "<b> the shape of the inputs to the loss_fn </b> \\\n",
    "In PyTorch, nn.CrossEntropyLoss() expects the input y_pred to have a shape of (batch_size, num_classes) and the target y_original to have a shape of (batch_size,).\n",
    "\n",
    "In your case, y_pred has a shape of [32, 10], which means you have a batch of 32 samples and each sample has 10 predicted class scores. y_original has a shape of [32], indicating the target class labels for the corresponding samples.\n",
    "\n",
    "The nn.CrossEntropyLoss() function will automatically handle the necessary computations to compute the loss between y_pred and y_original. It will apply the softmax function to y_pred internally to obtain class probabilities and then calculate the cross-entropy loss between the predicted probabilities and the target labels."
   ]
  },
  {
   "attachments": {},
   "cell_type": "markdown",
   "metadata": {},
   "source": [
    "<b style=\"color:green\">-----------Training our model-----</b>"
   ]
  },
  {
   "cell_type": "code",
   "execution_count": 12,
   "metadata": {},
   "outputs": [],
   "source": [
    "loss_fn = nn.CrossEntropyLoss()\n",
    "optimizer = torch.optim.SGD(params=model_0.parameters(), lr = 0.1)"
   ]
  },
  {
   "cell_type": "code",
   "execution_count": 26,
   "metadata": {},
   "outputs": [
    {
     "name": "stdout",
     "output_type": "stream",
     "text": [
      "training in epoch:  0\n",
      "y_pred torch.Size([32, 10])\n",
      "y tensor([7, 6, 1, 1, 7, 0, 5, 7, 8, 6, 8, 2, 2, 2, 3, 4, 2, 5, 0, 0, 6, 7, 3, 2,\n",
      "        8, 4, 8, 7, 5, 0, 7, 9]) torch.Size([32])\n",
      "finished training with batch  400\n",
      "finished training with batch  800\n",
      "finished training with batch  1200\n",
      "finished training with batch  1600\n",
      "finished training of epoch  0\n",
      "training in epoch:  1\n",
      "y_pred torch.Size([32, 10])\n",
      "y tensor([1, 6, 2, 2, 0, 0, 3, 1, 4, 5, 6, 3, 0, 5, 3, 3, 0, 7, 8, 0, 2, 8, 7, 6,\n",
      "        8, 4, 3, 6, 6, 8, 9, 6]) torch.Size([32])\n",
      "finished training with batch  400\n",
      "finished training with batch  800\n",
      "finished training with batch  1200\n",
      "finished training with batch  1600\n",
      "finished training of epoch  1\n",
      "training in epoch:  2\n",
      "y_pred torch.Size([32, 10])\n",
      "y tensor([0, 6, 9, 9, 1, 2, 7, 3, 4, 9, 4, 7, 2, 1, 0, 6, 9, 6, 5, 4, 9, 3, 6, 8,\n",
      "        5, 8, 1, 6, 3, 5, 2, 6]) torch.Size([32])\n",
      "finished training with batch  400\n",
      "finished training with batch  800\n",
      "finished training with batch  1200\n",
      "finished training with batch  1600\n",
      "finished training of epoch  2\n"
     ]
    }
   ],
   "source": [
    "epochs = 3\n",
    "\n",
    "for epoch in range(epochs):\n",
    "    print(\"training in epoch: \", epoch)\n",
    "    train_loss = 0\n",
    "\n",
    "    batch_count = 0\n",
    "    for X, y in train_dataloader:\n",
    "        batch_count += 1\n",
    "        # X = a batch of 32 images\n",
    "        # y = the corresponding labels for the images\n",
    "        model_0.train() #setting our model to train mode. whether we are testing or training is needed to be known by some layers but not all\n",
    "        #1 forward pass\n",
    "        y_pred = model_0(X) \n",
    "        #2 loss for the batch\n",
    "        if(batch_count == 1):\n",
    "            print(\"y_pred\", y_pred.shape)\n",
    "            print(\"y\",y, y.shape)\n",
    "            \n",
    "        loss = loss_fn(y_pred, y)\n",
    "        #3 optimizer zero grad\n",
    "        optimizer.zero_grad()\n",
    "        #4 backward()\n",
    "        loss.backward() #the backward function doesn't work without a forward pass prior to its call. hence we had to calulate loss. i guess the forward pass creates the necessary computational graph for gradient calculation\n",
    "        #5 update weights\n",
    "        optimizer.step()\n",
    "\n",
    "        if (batch_count % 400 == 0):\n",
    "            print(\"finished training with batch \", batch_count)\n",
    "\n",
    "    print(\"finished training of epoch \", epoch)\n",
    "    \n"
   ]
  },
  {
   "attachments": {},
   "cell_type": "markdown",
   "metadata": {},
   "source": [
    "After training, we now have a trained model"
   ]
  },
  {
   "cell_type": "code",
   "execution_count": 24,
   "metadata": {},
   "outputs": [
    {
     "name": "stdout",
     "output_type": "stream",
     "text": [
      "original label:  Coat\n",
      "predicted label:  Coat\n"
     ]
    }
   ],
   "source": [
    "model_0.eval() #letting pytorch know that we will test now, not train\n",
    "#take an image from the dataset\n",
    "X_test, y_test =  next(iter(test_dataloader))\n",
    "# X_test = batch of 32 images for test \n",
    "# y_test = corresponding labels \n",
    "test_img = X_test[10] #one img out of the batch, taken out for testing\n",
    "test_img_label = y_test[10]\n",
    "classes = train_data.classes\n",
    "print('original label: ', classes[test_img_label])\n",
    "\n",
    "test_img_pred = model_0(test_img).argmax(dim=1)\n",
    "print('predicted label: ', classes[test_img_pred]) "
   ]
  },
  {
   "attachments": {},
   "cell_type": "markdown",
   "metadata": {},
   "source": [
    "now that we have seen that the model works properly for some randomly picked images, \\\n",
    "let's now find output for all images of the test_dataloader and compare it with the original_label to find the overall accuracy \n",
    "\n",
    "<b> accuracy = (no. of correct output / no. of total outputs) * 100 </b>"
   ]
  },
  {
   "cell_type": "code",
   "execution_count": 53,
   "metadata": {},
   "outputs": [
    {
     "data": {
      "text/plain": [
       "{'model_name': 'FashionMNISTModelV0',\n",
       " 'model_acc': 82.83746006389777,\n",
       " 'model_loss': tensor(0.4795, grad_fn=<DivBackward0>)}"
      ]
     },
     "execution_count": 53,
     "metadata": {},
     "output_type": "execute_result"
    }
   ],
   "source": [
    "# a function for evaluating any model\n",
    "def eval_model(model: torch.nn.Module,\n",
    "               test_dataloader: torch.utils.data.DataLoader,\n",
    "               loss_fn: torch.nn.Module):\n",
    "    model.train(mode=False) #same as model.eval()\n",
    "    \n",
    "    batch_size = test_dataloader.batch_size\n",
    "    # going through the batches in test_dataloader\n",
    "    correct_pred = 0\n",
    "    total_loss = 0\n",
    "    for X_test, y_test in test_dataloader:\n",
    "        # X_test = batch of 32 image \n",
    "        # y_test = corresponding labels\n",
    "\n",
    "        #accuracy\n",
    "        y_pred = model(X_test)\n",
    "        correct_pred += torch.eq(y_pred.argmax(dim=1), y_test).sum().item()\n",
    "        \n",
    "        #loss\n",
    "        loss = loss_fn(y_pred, y_test)\n",
    "        total_loss += loss\n",
    "        \n",
    "    accuracy = (correct_pred/((len(test_dataloader))*(batch_size) ))*100\n",
    "    total_loss = total_loss/ (len(test_dataloader))\n",
    "\n",
    "    # returning a dictionary\n",
    "    return {\"model_name\":model.__class__.__name__,\n",
    "            \"model_acc\":accuracy,\n",
    "            \"model_loss\":total_loss}\n",
    "\n",
    "\n",
    "eval_model(model_0, test_dataloader, loss_fn = loss_fn)"
   ]
  },
  {
   "attachments": {},
   "cell_type": "markdown",
   "metadata": {},
   "source": [
    "<i><b>------DONE WITH CREATING THE MODEL-----</b></i>"
   ]
  }
 ],
 "metadata": {
  "kernelspec": {
   "display_name": "Python 3",
   "language": "python",
   "name": "python3"
  },
  "language_info": {
   "codemirror_mode": {
    "name": "ipython",
    "version": 3
   },
   "file_extension": ".py",
   "mimetype": "text/x-python",
   "name": "python",
   "nbconvert_exporter": "python",
   "pygments_lexer": "ipython3",
   "version": "3.10.7"
  },
  "orig_nbformat": 4
 },
 "nbformat": 4,
 "nbformat_minor": 2
}
