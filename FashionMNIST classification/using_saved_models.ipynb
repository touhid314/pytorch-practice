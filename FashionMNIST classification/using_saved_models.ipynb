{
 "cells": [
  {
   "attachments": {},
   "cell_type": "markdown",
   "metadata": {},
   "source": [
    "loading a model"
   ]
  },
  {
   "cell_type": "code",
   "execution_count": 12,
   "metadata": {},
   "outputs": [
    {
     "data": {
      "text/plain": [
       "{'model_name': 'FashionMNISTV2',\n",
       " 'model_acc': 87.80950479233228,\n",
       " 'model_loss': tensor(0.3248, grad_fn=<DivBackward0>)}"
      ]
     },
     "execution_count": 12,
     "metadata": {},
     "output_type": "execute_result"
    }
   ],
   "source": [
    "import torch\n",
    "\n",
    "# Loading model\n",
    "model_2 = FashionMNISTV2(input_shape=1, hidden_units=10, output_shape=10)\n",
    "model_2.load_state_dict(torch.load(f=\"saved_models/model_v2.mod\"))\n",
    "\n",
    "# loading test data to evaluate the model with\n",
    "from torch import nn\n",
    "from model_classes import FashionMNISTV2\n",
    "from torchvision import datasets\n",
    "from torchvision.transforms import ToTensor\n",
    "from torch.utils.data import DataLoader\n",
    "\n",
    "test_data = datasets.FashionMNIST(root=\"data\", train=False, transform=ToTensor(), download=True)\n",
    "test_dataloader = DataLoader(test_data, shuffle=False, batch_size=32)\n",
    "\n",
    "from helper_func import eval_model\n",
    "eval_model(model_2, test_dataloader, loss_fn=nn.CrossEntropyLoss(), device=\"cpu\")\n",
    "\n"
   ]
  }
 ],
 "metadata": {
  "kernelspec": {
   "display_name": "Python 3",
   "language": "python",
   "name": "python3"
  },
  "language_info": {
   "codemirror_mode": {
    "name": "ipython",
    "version": 3
   },
   "file_extension": ".py",
   "mimetype": "text/x-python",
   "name": "python",
   "nbconvert_exporter": "python",
   "pygments_lexer": "ipython3",
   "version": "3.10.7"
  },
  "orig_nbformat": 4
 },
 "nbformat": 4,
 "nbformat_minor": 2
}
