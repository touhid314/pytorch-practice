{
 "cells": [
  {
   "attachments": {},
   "cell_type": "markdown",
   "metadata": {},
   "source": [
    "<b>This version of the model, </b>\n",
    "1. runs the code on gpu, if gpu  is available \n",
    "2. adds a ReLU activation function after the linear layers\n",
    "    so instead of y = W*x +b, it is, y = ReLU(W*x +b). It could also be, y = sigmoid(W*x +b) "
   ]
  },
  {
   "attachments": {},
   "cell_type": "markdown",
   "metadata": {},
   "source": [
    "Steps:\n",
    "1. get dataset, make dataloaders object\n",
    "2. make model\n",
    "3. train model\n",
    "4. evaluate model"
   ]
  },
  {
   "attachments": {},
   "cell_type": "markdown",
   "metadata": {},
   "source": [
    "<b> Prepare Data </b> "
   ]
  },
  {
   "attachments": {},
   "cell_type": "markdown",
   "metadata": {},
   "source": []
  }
 ],
 "metadata": {
  "language_info": {
   "name": "python"
  },
  "orig_nbformat": 4
 },
 "nbformat": 4,
 "nbformat_minor": 2
}
